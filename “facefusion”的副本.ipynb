{
  "cells": [
    {
      "cell_type": "markdown",
      "metadata": {
        "id": "view-in-github",
        "colab_type": "text"
      },
      "source": [
        "<a href=\"https://colab.research.google.com/github/gold74386/facefusion/blob/master/%E2%80%9Cfacefusion%E2%80%9D%E7%9A%84%E5%89%AF%E6%9C%AC.ipynb\" target=\"_parent\"><img src=\"https://colab.research.google.com/assets/colab-badge.svg\" alt=\"Open In Colab\"/></a>"
      ]
    },
    {
      "cell_type": "markdown",
      "metadata": {
        "id": "hgVreYca3LcQ"
      },
      "source": [
        "FaceFusion 2.4.1"
      ]
    },
    {
      "cell_type": "markdown",
      "metadata": {
        "id": "28qKtK7F3bzl"
      },
      "source": [
        "Install"
      ]
    },
    {
      "cell_type": "code",
      "execution_count": null,
      "metadata": {
        "id": "ZlrnUA3i3gMB"
      },
      "outputs": [],
      "source": [
        "!apt-get install nvidia-cuda-toolkit\n",
        "!git clone https://tinyurl.com/2yv5aar9 --branch 2.4.1 --single-branch\n",
        "%cd /content/2yv5aar9\n",
        "!python install.py --onnxruntime cuda-11.8 --skip-venv"
      ]
    },
    {
      "cell_type": "markdown",
      "metadata": {
        "id": "J6HT5NpVcZOC"
      },
      "source": [
        "Setup"
      ]
    },
    {
      "cell_type": "code",
      "execution_count": null,
      "metadata": {
        "id": "YVHiNI-bb6IB",
        "outputId": "ce22d22b-6799-47a6-b1b2-a66a5b8bdd98",
        "colab": {
          "base_uri": "https://localhost:8080/"
        }
      },
      "outputs": [
        {
          "output_type": "stream",
          "name": "stdout",
          "text": [
            "# remote.moe:22 SSH-2.0-Go\n"
          ]
        }
      ],
      "source": [
        "!ssh-keygen -q -t rsa -N '' -f ~/.ssh/id_rsa <<<y\n",
        "!ssh-keyscan -t rsa remote.moe >> ~/.ssh/known_hosts"
      ]
    },
    {
      "cell_type": "code",
      "source": [],
      "metadata": {
        "id": "RyQkuuFD-LHc"
      },
      "execution_count": null,
      "outputs": []
    },
    {
      "cell_type": "markdown",
      "metadata": {
        "id": "vsfWtUCSGrrl"
      },
      "source": [
        "Run"
      ]
    },
    {
      "cell_type": "code",
      "execution_count": null,
      "metadata": {
        "id": "YVHiNI-bb6IA",
        "outputId": "b820b34c-77eb-4238-95cf-69ccf9524db4",
        "colab": {
          "base_uri": "https://localhost:8080/"
        }
      },
      "outputs": [
        {
          "metadata": {
            "tags": null
          },
          "name": "stdout",
          "output_type": "stream",
          "text": [
            "/content/2yv5aar9\n",
            "Downloading:   0% 0.00/22.5M [00:00<?, ?B/s]\n",
            "NOTICE\n",
            "authentication is coming: https://github.com/fasmide/remotemoe/discussions/14\n",
            "Downloading: 100% 22.5M/22.5M [00:00<00:00, 55.8MB/s]\n",
            "\u001b[1mhttp\u001b[22m (80)\n",
            "http://qves5ixtlpdyviucl75xqkdkfuizmpgcl4qn3hug5qwieelpqljq.remote.moe/\n",
            "\n",
            "$\n",
            " \n",
            "Downloading: 100% 93.4M/93.4M [00:01<00:00, 90.3MB/s]\n",
            "Downloading: 100% 1.26M/1.26M [00:00<00:00, 3.76MB/s]\n",
            "Downloading: 100% 12.1M/12.1M [00:00<00:00, 27.5MB/s]\n",
            "Downloading: 100% 166M/166M [00:01<00:00, 91.4MB/s]\n",
            "Downloading: 100% 67.1M/67.1M [00:00<00:00, 85.8MB/s]\n",
            "Downloading: 100% 50.7M/50.7M [00:00<00:00, 69.4MB/s]\n",
            "Downloading: 100% 264M/264M [00:03<00:00, 86.4MB/s]\n",
            "EP Error /onnxruntime_src/onnxruntime/core/providers/cuda/cuda_call.cc:121 std::conditional_t<THRW, void, onnxruntime::common::Status> onnxruntime::CudaCall(ERRTYPE, const char*, const char*, ERRTYPE, const char*, const char*, int) [with ERRTYPE = cudaError; bool THRW = true; std::conditional_t<THRW, void, onnxruntime::common::Status> = void] /onnxruntime_src/onnxruntime/core/providers/cuda/cuda_call.cc:114 std::conditional_t<THRW, void, onnxruntime::common::Status> onnxruntime::CudaCall(ERRTYPE, const char*, const char*, ERRTYPE, const char*, const char*, int) [with ERRTYPE = cudaError; bool THRW = true; std::conditional_t<THRW, void, onnxruntime::common::Status> = void] CUDA failure 100: no CUDA-capable device is detected ; GPU=-55901440 ; hostname=e24df435c82c ; file=/onnxruntime_src/onnxruntime/core/providers/cuda/cuda_execution_provider.cc ; line=236 ; expr=cudaSetDevice(info_.device_id); \n",
            "\n",
            " when using [('CUDAExecutionProvider', {'cudnn_conv_algo_search': 'DEFAULT'})]\n",
            "Falling back to ['CUDAExecutionProvider', 'CPUExecutionProvider'] and retrying.\n",
            "Traceback (most recent call last):\n",
            "  File \"/usr/local/lib/python3.10/dist-packages/onnxruntime/capi/onnxruntime_inference_collection.py\", line 419, in __init__\n",
            "    self._create_inference_session(providers, provider_options, disabled_optimizers)\n",
            "  File \"/usr/local/lib/python3.10/dist-packages/onnxruntime/capi/onnxruntime_inference_collection.py\", line 463, in _create_inference_session\n",
            "    sess.initialize_session(providers, provider_options, disabled_optimizers)\n",
            "RuntimeError: /onnxruntime_src/onnxruntime/core/providers/cuda/cuda_call.cc:121 std::conditional_t<THRW, void, onnxruntime::common::Status> onnxruntime::CudaCall(ERRTYPE, const char*, const char*, ERRTYPE, const char*, const char*, int) [with ERRTYPE = cudaError; bool THRW = true; std::conditional_t<THRW, void, onnxruntime::common::Status> = void] /onnxruntime_src/onnxruntime/core/providers/cuda/cuda_call.cc:114 std::conditional_t<THRW, void, onnxruntime::common::Status> onnxruntime::CudaCall(ERRTYPE, const char*, const char*, ERRTYPE, const char*, const char*, int) [with ERRTYPE = cudaError; bool THRW = true; std::conditional_t<THRW, void, onnxruntime::common::Status> = void] CUDA failure 100: no CUDA-capable device is detected ; GPU=-55901440 ; hostname=e24df435c82c ; file=/onnxruntime_src/onnxruntime/core/providers/cuda/cuda_execution_provider.cc ; line=236 ; expr=cudaSetDevice(info_.device_id); \n",
            "\n",
            "\n",
            "\n",
            "The above exception was the direct cause of the following exception:\n",
            "\n",
            "Traceback (most recent call last):\n",
            "  File \"/content/2yv5aar9/run.py\", line 6, in <module>\n",
            "    core.cli()\n",
            "  File \"/content/2yv5aar9/facefusion/core.py\", line 106, in cli\n",
            "    run(program)\n",
            "  File \"/content/2yv5aar9/facefusion/core.py\", line 202, in run\n",
            "    ui.launch()\n",
            "  File \"/content/2yv5aar9/facefusion/uis/core.py\", line 75, in launch\n",
            "    ui_layout_module.render()\n",
            "  File \"/content/2yv5aar9/facefusion/uis/layouts/default.py\", line 44, in render\n",
            "    preview.render()\n",
            "  File \"/content/2yv5aar9/facefusion/uis/components/preview.py\", line 43, in render\n",
            "    conditional_append_reference_faces()\n",
            "  File \"/content/2yv5aar9/facefusion/core.py\", line 248, in conditional_append_reference_faces\n",
            "    reference_face = get_one_face(reference_frame, facefusion.globals.reference_face_position)\n",
            "  File \"/content/2yv5aar9/facefusion/face_analyser.py\", line 411, in get_one_face\n",
            "    many_faces = get_many_faces(vision_frame)\n",
            "  File \"/content/2yv5aar9/facefusion/face_analyser.py\", line 468, in get_many_faces\n",
            "    bounding_box_list_yoloface, face_landmark_5_list_yoloface, score_list_yoloface = detect_with_yoloface(vision_frame, facefusion.globals.face_detector_size)\n",
            "  File \"/content/2yv5aar9/facefusion/face_analyser.py\", line 239, in detect_with_yoloface\n",
            "    face_detector = get_face_analyser().get('face_detectors').get('yoloface')\n",
            "  File \"/content/2yv5aar9/facefusion/face_analyser.py\", line 92, in get_face_analyser\n",
            "    face_detector = onnxruntime.InferenceSession(MODELS.get('face_detector_yoloface').get('path'), providers = apply_execution_provider_options(facefusion.globals.execution_providers))\n",
            "  File \"/usr/local/lib/python3.10/dist-packages/onnxruntime/capi/onnxruntime_inference_collection.py\", line 430, in __init__\n",
            "    raise fallback_error from e\n",
            "  File \"/usr/local/lib/python3.10/dist-packages/onnxruntime/capi/onnxruntime_inference_collection.py\", line 425, in __init__\n",
            "    self._create_inference_session(self._fallback_providers, None)\n",
            "  File \"/usr/local/lib/python3.10/dist-packages/onnxruntime/capi/onnxruntime_inference_collection.py\", line 463, in _create_inference_session\n",
            "    sess.initialize_session(providers, provider_options, disabled_optimizers)\n",
            "RuntimeError: /onnxruntime_src/onnxruntime/core/providers/cuda/cuda_call.cc:121 std::conditional_t<THRW, void, onnxruntime::common::Status> onnxruntime::CudaCall(ERRTYPE, const char*, const char*, ERRTYPE, const char*, const char*, int) [with ERRTYPE = cudaError; bool THRW = true; std::conditional_t<THRW, void, onnxruntime::common::Status> = void] /onnxruntime_src/onnxruntime/core/providers/cuda/cuda_call.cc:114 std::conditional_t<THRW, void, onnxruntime::common::Status> onnxruntime::CudaCall(ERRTYPE, const char*, const char*, ERRTYPE, const char*, const char*, int) [with ERRTYPE = cudaError; bool THRW = true; std::conditional_t<THRW, void, onnxruntime::common::Status> = void] CUDA failure 100: no CUDA-capable device is detected ; GPU=-765008389 ; hostname=e24df435c82c ; file=/onnxruntime_src/onnxruntime/core/providers/cuda/cuda_execution_provider.cc ; line=236 ; expr=cudaSetDevice(info_.device_id); \n",
            "\n",
            "\n",
            "connect_to 127.0.0.1 port 7860: failed.\n",
            "connect_to 127.0.0.1 port 7860: failed.\n",
            "connect_to 127.0.0.1 port 7860: failed.\n",
            "connect_to 127.0.0.1 port 7860: failed.\n"
          ]
        }
      ],
      "source": [
        "%cd /content/2yv5aar9\n",
        "!python run.py --execution-providers cuda & ssh -R 80:127.0.0.1:7860 remote.moe"
      ]
    }
  ],
  "metadata": {
    "colab": {
      "provenance": [],
      "include_colab_link": true
    },
    "kernelspec": {
      "display_name": "Python 3",
      "name": "python3"
    },
    "language_info": {
      "name": "python"
    }
  },
  "nbformat": 4,
  "nbformat_minor": 0
}